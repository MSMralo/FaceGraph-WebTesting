{
 "cells": [
  {
   "cell_type": "markdown",
   "metadata": {},
   "source": [
    "# Smile TEST FG202121"
   ]
  },
  {
   "cell_type": "code",
   "execution_count": 1,
   "metadata": {},
   "outputs": [],
   "source": [
    "#packages\n",
    "import random\n",
    "import time\n",
    "import urllib\n",
    "import bs4\n",
    "import requests\n",
    "import os\n",
    "import pandas as pd\n",
    "import numpy as np\n",
    "import matplotlib as lib\n",
    "import re\n",
    "from collections import OrderedDict\n",
    "\n",
    "from selenium.webdriver.chrome.options import Options\n",
    "from selenium.webdriver.chrome.service import Service\n",
    "from webdriver_manager.chrome import ChromeDriverManager\n",
    "from selenium.webdriver.common.action_chains import ActionChains\n",
    "from selenium.webdriver.common.keys import Keys\n",
    "from selenium.webdriver.common.by import By\n",
    "from selenium import webdriver\n",
    "from urllib.parse import urljoin"
   ]
  },
  {
   "cell_type": "code",
   "execution_count": 2,
   "metadata": {
    "scrolled": true
   },
   "outputs": [
    {
     "name": "stderr",
     "output_type": "stream",
     "text": [
      "\n",
      "\n",
      "====== WebDriver manager ======\n",
      "Current google-chrome version is 96.0.4664\n",
      "Get LATEST chromedriver version for 96.0.4664 google-chrome\n",
      "Driver [C:\\Users\\Eng.Mido93\\.wdm\\drivers\\chromedriver\\win32\\96.0.4664.45\\chromedriver.exe] found in cache\n"
     ]
    }
   ],
   "source": [
    "options = webdriver.ChromeOptions()\n",
    "#options.add_argument('headless')\n",
    "options.add_argument('--disable-infobars')\n",
    "options.add_argument('--disable-dev-shm-usage')\n",
    "options.add_argument('--no-sandbox')\n",
    "options.add_argument('--remote-debugging-port=9222')\n",
    "\n",
    "wb = webdriver.Chrome(service=Service(ChromeDriverManager().install()), options = options)\n",
    "wb.get(\"https://facegraphidqa.azurewebsites.net/Account/Login\")\n",
    "#wb.close()"
   ]
  },
  {
   "cell_type": "code",
   "execution_count": 3,
   "metadata": {
    "scrolled": true
   },
   "outputs": [],
   "source": [
    "def login():\n",
    "    config = {\n",
    "        'EMAIL': '011416',\n",
    "        'PASSWORD': '123456'\n",
    "    }\n",
    "    \n",
    "    elem = wb.find_element(By.ID,\"Username\")\n",
    "    elem.clear()\n",
    "    elem.send_keys(config['EMAIL'])\n",
    "    elem = wb.find_element(By.ID,'Password')\n",
    "    elem.clear()\n",
    "    elem.send_keys(config['PASSWORD'])\n",
    "    elem = wb.find_element(By.ID,'AutoVerificationCode')\n",
    "    elem.click()\n",
    "    elem = wb.find_element(By.ID,'btnSubmit')\n",
    "    elem.click()\n",
    "    time.sleep(8)\n",
    "    try:\n",
    "        elem = wb.find_element(By.CSS_SELECTOR,'div.welcome_page > div.user_account > span:nth-child(2)')\n",
    "        elem.click()\n",
    "        print(\"welcome page\")\n",
    "    except:\n",
    "        print(\"No welcome page\")\n",
    "    time.sleep(10)\n",
    "    try:\n",
    "        elem = wb.find_element(By.CLASS_NAME,'chankya-ham-icon')\n",
    "        elem.click()\n",
    "        print(\"menu clicked\")\n",
    "        print(\"login success\")\n",
    "    except:\n",
    "        print(\"login faild\")\n",
    "        print(\"error clicking menu\")\n",
    "    time.sleep(2)\n",
    "    try: #scroll down with keys\n",
    "        elem = wb.find_element(By.TAG_NAME,'html')\n",
    "        elem.send_keys(Keys.PAGE_DOWN)\n",
    "        print(\"scrolled down\")\n",
    "    except:\n",
    "        print(\"faild to scroll down\")\n",
    "    time.sleep(2)\n",
    "    try:\n",
    "        elem = wb.find_element(By.PARTIAL_LINK_TEXT,'Manage Attendance')\n",
    "        elem.click()\n",
    "        print(\"Manage tab clicked\")\n",
    "    except:\n",
    "        print(\"faild to click on Manage tab\")\n",
    "    time.sleep(2)\n",
    "    try:\n",
    "        elem = wb.find_element(By.PARTIAL_LINK_TEXT,'Students')\n",
    "        elem.click()\n",
    "        print(\"Students tab loaded\")\n",
    "    except:\n",
    "        print(\"faild to click on Students tab\")\n",
    "    time.sleep(5)\n",
    "    try:\n",
    "        elem = wb.find_element(By.CLASS_NAME,'close-mobile-menu')\n",
    "        elem.click()\n",
    "        print(\"menu closed\")\n",
    "    except:\n",
    "        print(\"faild to close menu\")"
   ]
  },
  {
   "cell_type": "code",
   "execution_count": 4,
   "metadata": {},
   "outputs": [],
   "source": [
    "def addSignIn(h,m):\n",
    "    minutes=m\n",
    "    hour=h-8\n",
    "    n,t=1,1\n",
    "    elem = wb.find_element(By.CLASS_NAME,'btn-success')\n",
    "    elem.click()\n",
    "    time.sleep(2)\n",
    "    elem = wb.find_element(By.ID,'childId')\n",
    "    elem.click()\n",
    "    time.sleep(2)\n",
    "    elem.send_keys(Keys.DOWN)\n",
    "    elem.click()\n",
    "    time.sleep(2)\n",
    "    elem = wb.find_element(By.ID,'signedInAt')\n",
    "    elem.click()\n",
    "    time.sleep(2)\n",
    "    elem = wb.find_element(By.CLASS_NAME,'fa-angle-up')\n",
    "    while n<=hour:\n",
    "        elem.click()\n",
    "        n+=1\n",
    "    time.sleep(2)\n",
    "    elem = wb.find_element(By.CSS_SELECTOR,'div.ui-minute-picker > a:nth-child(1) > span')\n",
    "    while t<=minutes:\n",
    "        elem.click()\n",
    "        t+=1\n",
    "    time.sleep(3)\n",
    "    elem = wb.find_element(By.CLASS_NAME,'ui-clickable')\n",
    "    elem.click()\n",
    "    time.sleep(2)\n",
    "    elem = wb.find_element(By.ID,'signedInBy')\n",
    "    elem.click()\n",
    "    time.sleep(2)\n",
    "    elem.send_keys(Keys.DOWN)\n",
    "    elem.click()\n",
    "    time.sleep(2)\n",
    "    try: #scroll down with keys\n",
    "        elem = wb.find_element(By.TAG_NAME,'html')\n",
    "        elem.send_keys(Keys.PAGE_DOWN)\n",
    "        print(\"scrolled down\")\n",
    "    except:\n",
    "        print(\"faild to scroll down\")\n",
    "    try: #SAVE\n",
    "        elem = wb.find_element(By.CSS_SELECTOR,'div.col-md-12.col-lg-6.col-xl-4.mb-3 > button')\n",
    "        elem.click()\n",
    "        time.sleep(2)\n",
    "        print(\"Temperature is Optional verified\")\n",
    "        print(\"Signed in Saved for Student1 at \"+str(h)+\":\"+str(m))\n",
    "        return True\n",
    "    except:\n",
    "        print(\"Signed in Not Saved for Student1\")\n",
    "        return False"
   ]
  },
  {
   "cell_type": "code",
   "execution_count": 5,
   "metadata": {
    "scrolled": true
   },
   "outputs": [
    {
     "name": "stdout",
     "output_type": "stream",
     "text": [
      "welcome page\n",
      "menu clicked\n",
      "login success\n",
      "scrolled down\n",
      "Manage tab clicked\n",
      "Students tab loaded\n",
      "menu closed\n"
     ]
    }
   ],
   "source": [
    "login()"
   ]
  },
  {
   "cell_type": "code",
   "execution_count": 7,
   "metadata": {},
   "outputs": [
    {
     "name": "stdout",
     "output_type": "stream",
     "text": [
      "scrolled down\n",
      "Temperature is Optional verified\n",
      "Signed in Saved for Student1 at 10:18\n",
      "scrolled down\n",
      "Temperature is Optional verified\n",
      "Signed in Saved for Student1 at 10:19\n",
      "Issue: Two Signed in for same student accepted\n"
     ]
    }
   ],
   "source": [
    "if addSignIn(10,18) is True:\n",
    "    if addSignIn(10,19):\n",
    "        print(\"Issue: Two Signed in for same student accepted\")\n",
    "else:\n",
    "        print(\"NO Issue\")\n"
   ]
  },
  {
   "cell_type": "code",
   "execution_count": 8,
   "metadata": {},
   "outputs": [],
   "source": [
    "wb.close()"
   ]
  },
  {
   "cell_type": "markdown",
   "metadata": {},
   "source": [
    "## Conclusion of this Test\n",
    "## *Issues\n",
    "### -We have two sign in for the same student which indicate a problem with the backend\n",
    "## *Working points\n",
    "### -login is working correctly\n",
    "### -Temperature is Optional\n",
    "### -We can't add two sign in with the same time "
   ]
  },
  {
   "cell_type": "code",
   "execution_count": null,
   "metadata": {},
   "outputs": [],
   "source": []
  }
 ],
 "metadata": {
  "kernelspec": {
   "display_name": "Python 3",
   "language": "python",
   "name": "python3"
  },
  "language_info": {
   "codemirror_mode": {
    "name": "ipython",
    "version": 3
   },
   "file_extension": ".py",
   "mimetype": "text/x-python",
   "name": "python",
   "nbconvert_exporter": "python",
   "pygments_lexer": "ipython3",
   "version": "3.7.5"
  }
 },
 "nbformat": 4,
 "nbformat_minor": 2
}
